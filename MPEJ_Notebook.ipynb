{
  "cells": [
    {
      "cell_type": "markdown",
      "metadata": {
        "id": "dj3M07daX3u3"
      },
      "source": [
        "#Import Libraries"
      ]
    },
    {
      "cell_type": "code",
      "execution_count": null,
      "metadata": {
        "id": "jJDvOR35HhOH"
      },
      "outputs": [],
      "source": [
        "import cv2\n",
        "import os\n",
        "import numpy as np\n",
        "from google.colab.patches import cv2_imshow\n",
        "from numpy.core.getlimits import inf\n",
        "import math\n",
        "from PIL import Image, ImageOps\n",
        "from collections import Counter\n",
        "from numpy import asarray\n",
        "from fractions import Fraction"
      ]
    },
    {
      "cell_type": "markdown",
      "metadata": {
        "id": "yFj6VvrX0QJx"
      },
      "source": [
        "# Functions For JPEG"
      ]
    },
    {
      "cell_type": "markdown",
      "metadata": {
        "id": "xWRWYYQRX1vO"
      },
      "source": [
        ">## Class Node"
      ]
    },
    {
      "cell_type": "code",
      "execution_count": null,
      "metadata": {
        "id": "HR9RSvSUu5l0"
      },
      "outputs": [],
      "source": [
        "#create a class to save nodes of the tree that will be concstructed in Huffman encoding\n",
        "class node:\n",
        "  def __init__(self, prob, value, left=None, right=None):\n",
        "    self.prob = prob\n",
        "    self.value = value\n",
        "    self.left = left\n",
        "    self.right = right\n",
        "    self.code =''\n",
        "  \n",
        "  #function to be used in sorting as the key\n",
        "  def getProb(self):\n",
        "    return self.prob"
      ]
    },
    {
      "cell_type": "markdown",
      "metadata": {
        "id": "yjKaVT5zKPnT"
      },
      "source": [
        ">## Arithmetic Encoding & Decoding Functions"
      ]
    },
    {
      "cell_type": "code",
      "execution_count": null,
      "metadata": {
        "id": "rXRyoV8BKPnU"
      },
      "outputs": [],
      "source": [
        "# find the range of each symbol\n",
        "def rangeChar(char, prob):\n",
        "  '''\n",
        "  This function is made to help in arithmetic encoding and decoding\n",
        "  Input: a list of characters and a list of probabilities\n",
        "  Output: the upper and lower bounds\n",
        "  '''\n",
        "  upperChar = [Fraction(0)] * len(prob)\n",
        "  lowerChar = [Fraction(0)] * len(prob)\n",
        "  \n",
        "  upperChar[0] = prob[0]\n",
        "  for i in range(1, len(char)):\n",
        "    lowerChar[i] = upperChar[i-1]\n",
        "    upperChar[i] = lowerChar[i] + prob[i]\n",
        "  return upperChar, lowerChar"
      ]
    },
    {
      "cell_type": "code",
      "execution_count": null,
      "metadata": {
        "id": "uldtJB-cKPnV"
      },
      "outputs": [],
      "source": [
        "def arithEnc(str, char, prob):\n",
        "  '''\n",
        "  This function performs arithmetic encoding \n",
        "  Input: a string or list of integers or strings to be encoded,\n",
        "         a list of all characters and a list of their probabilities\n",
        "  Output: encoded string\n",
        "  '''\n",
        "  upperChar, lowerChar = rangeChar(char, prob)\n",
        "  \n",
        "  #first we need to find the upper and lower limits\n",
        "  lowerBound = Fraction(0)\n",
        "  upperBound = Fraction(1)\n",
        "  for c in str:\n",
        "    i = char.index(c)\n",
        "    currentRange = upperBound - lowerBound\n",
        "    upperBound = lowerBound + (currentRange * upperChar[i])\n",
        "    lowerBound = lowerBound + (currentRange * lowerChar[i])\n",
        "  \n",
        "  #second step is to use the upper and lower limits to encode the word\n",
        "  up = Fraction(1)\n",
        "  mid = Fraction(0.5)\n",
        "  low = Fraction(0)\n",
        "  code = \"\"\n",
        "\n",
        "  while 1:\n",
        "    if mid >= lowerBound and up <= upperBound:\n",
        "      return code\n",
        "    elif low >= lowerBound and mid <= upperBound:\n",
        "      return code\n",
        "\n",
        "    if mid > upperBound:\n",
        "      code +=\"0\"\n",
        "      up = mid\n",
        "      mid = low + (up - low) /2\n",
        "    else:\n",
        "      code +=\"1\"\n",
        "      low = mid\n",
        "      mid += (up - low) /2"
      ]
    },
    {
      "cell_type": "code",
      "execution_count": null,
      "metadata": {
        "id": "1ZCJ1Vb6KPnV"
      },
      "outputs": [],
      "source": [
        "def arithDec(str, char, prob, numOfSym):\n",
        "  '''\n",
        "  This function performs arithmetic deccoding \n",
        "  Input: an encoded string, a list of all characters, a list of their probabilities, and the number of symbols\n",
        "  Output: decoded list of integers or strings\n",
        "  '''\n",
        "  upperChar, lowerChar = rangeChar(char, prob)\n",
        "\n",
        "  #convert the fixed point code to decimal number\n",
        "  encValue = 0\n",
        "  for i in range(len(str)):\n",
        "     encValue += Fraction(str[i])*pow(Fraction(2),-(i+1))\n",
        "\n",
        "  #iterate using the given number of symbols and find where the calculated value lies in ranges of symbols\n",
        "  out = []\n",
        "  for n in range(numOfSym):\n",
        "    for i in range(len(char)):\n",
        "      if encValue <= upperChar[i] and encValue >= lowerChar[i]:\n",
        "        upperBound = upperChar[i]\n",
        "        lowerBound = lowerChar[i]\n",
        "        out.append(char[i])\n",
        "        break\n",
        "    currentRange = upperBound - lowerBound\n",
        "    encValue = (encValue - lowerBound) / currentRange\n",
        "  \n",
        "  return out"
      ]
    },
    {
      "cell_type": "markdown",
      "metadata": {
        "id": "Jvv5GXBzXsEK"
      },
      "source": [
        ">## Huffman Encoding & Decoding Functions"
      ]
    },
    {
      "cell_type": "code",
      "execution_count": null,
      "metadata": {
        "id": "I-TPhJqNxbST"
      },
      "outputs": [],
      "source": [
        "def huffenc(values, prob):\n",
        "  '''\n",
        "  This function builds a tree for huffman encoding \n",
        "  Input: symbols and probailities as two lists\n",
        "  Output: average length, new codes for the given symbols, and the root of the tree\n",
        "  '''\n",
        "  nodes = []\n",
        "  \n",
        "  #create leaves from the given inputs(symbols and probabilities) to be used in constructing the tree\n",
        "  for i in range(len(values)):\n",
        "    nodes.append(node(prob[i], values[i]))\n",
        "  \n",
        "  #Constructing the tree by picking the first two elements in the list \n",
        "  #and add there probabilities and making a new node\n",
        "  while len(nodes)-1:\n",
        "    nodes.sort(key = node.getProb)\n",
        "    nodes.append(node(nodes[0].prob+nodes[1].prob,'', nodes[0], nodes[1]))\n",
        "    nodes.remove(nodes[0])\n",
        "    nodes.remove(nodes[0])\n",
        "  \n",
        "  #give values to each edge where left edge takes 1 and right edge takes 0\n",
        "  #each node takes a code according to their parent code in addition to the path \n",
        "  def coding(root, map):\n",
        "    if root.left:\n",
        "      root.left.code = root.code + '1'\n",
        "      coding(root.left, map)\n",
        "\n",
        "    if root.right:\n",
        "      root.right.code = root.code + '0'\n",
        "      coding(root.right, map)\n",
        "\n",
        "    if root.left == None and root.right == None:\n",
        "      map[root.value] = (root.code, root.prob)\n",
        "  \n",
        "  #call the helper funciton coding to get the codes for each symbol\n",
        "  map = {}\n",
        "  coding(nodes[0], map)\n",
        "\n",
        "  #calculating average length  \n",
        "  avL = 0\n",
        "  for i in map:\n",
        "    avL = avL + len(map[i][0]) * map[i][1]\n",
        "  \n",
        "  return avL, map, nodes[0]"
      ]
    },
    {
      "cell_type": "code",
      "execution_count": null,
      "metadata": {
        "id": "y47tP54RKAUg"
      },
      "outputs": [],
      "source": [
        "def huffdec(arr, root):\n",
        "  '''\n",
        "  This function performs huffman decoding \n",
        "  Input: encoded string or list and root of the tree\n",
        "  Output: the original values of the symbols before encoding\n",
        "  '''  \n",
        "  def symDec(arr, node):\n",
        "    #if the current node is a leave then return the remaining arr and the value of the leave\n",
        "    if(node.left ==  None and node.right == None):\n",
        "      return arr, node.value\n",
        "\n",
        "    #if the first element in the arr equals one then call symDec recursively with arr without the first element and the left child of the node\n",
        "    if(arr[0] == '1'):\n",
        "      return symDec(arr[1:], node.left)\n",
        "\n",
        "    #if the first element in the arr equals zero then call symDec recursively with arr without the first element and the right child of the node\n",
        "    else:\n",
        "      return symDec(arr[1:], node.right)\n",
        "  \n",
        "  solution = []\n",
        "  while(len(arr)):\n",
        "    arr, symbol = symDec(arr, root)\n",
        "    solution.append(symbol)\n",
        "    \n",
        "  return solution"
      ]
    },
    {
      "cell_type": "markdown",
      "metadata": {
        "id": "c-Fj8cFJ4F2C"
      },
      "source": [
        ">## DCT & IDCT"
      ]
    },
    {
      "cell_type": "code",
      "execution_count": null,
      "metadata": {
        "id": "4XYaor81VKoc"
      },
      "outputs": [],
      "source": [
        "import numpy as np\n",
        "\n",
        "def dct_optimized(block_8):\n",
        "  # Precompute the cosine values\n",
        "  cosines = np.empty((8, 8, 8, 8))\n",
        "  for u in range(8):\n",
        "    for v in range(8):\n",
        "      cosines[u, v, :, :] = np.cos((1/16)*(2*np.arange(8)+1)*u*np.pi)[:, np.newaxis] * np.cos((1/16)*(2*np.arange(8)+1)*v*np.pi)[np.newaxis, :]\n",
        "\n",
        "  # Precompute the scaling factors\n",
        "  alpha1 = np.zeros(8)\n",
        "  alpha1[0] = 1/np.sqrt(8)\n",
        "  alpha1[1:] = np.sqrt(2/8)\n",
        "  alpha2 = np.zeros(8)\n",
        "  alpha2[0] = 1/np.sqrt(8)\n",
        "  alpha2[1:] = np.sqrt(2/8)\n",
        "\n",
        "  # Perform the DCT\n",
        "  dct_result = np.zeros((8, 8))\n",
        "  for u in range(8):\n",
        "    for v in range(8):\n",
        "      dct_result[u, v] = alpha1[u] * alpha2[v] * np.sum(np.multiply(block_8, cosines[u, v, :, :]))\n",
        "\n",
        "  return dct_result"
      ]
    },
    {
      "cell_type": "code",
      "execution_count": null,
      "metadata": {
        "id": "IIIFL-wITbTi"
      },
      "outputs": [],
      "source": [
        "def idct_optimized(block_8):\n",
        "  # Precompute the cosine values\n",
        "  cosines = np.empty((8, 8, 8, 8))\n",
        "  for u in range(8):\n",
        "    for v in range(8):\n",
        "      cosines[u, v, :, :] = np.cos((1/16)*(2*np.arange(8)+1)*u*np.pi)[:, np.newaxis] * np.cos((1/16)*(2*np.arange(8)+1)*v*np.pi)[np.newaxis, :]\n",
        "\n",
        "  # Precompute the scaling factors\n",
        "  alpha1 = np.zeros(8)\n",
        "  alpha1[0] = 1/np.sqrt(8)\n",
        "  alpha1[1:] = np.sqrt(2/8)\n",
        "  alpha2 = np.zeros(8)\n",
        "  alpha2[0] = 1/np.sqrt(8)\n",
        "  alpha2[1:] = np.sqrt(2/8)\n",
        "\n",
        "  # Perform the IDCT\n",
        "  idct_result = np.zeros((8, 8))\n",
        "  for u in range(8):\n",
        "    for v in range(8):\n",
        "      idct_result += block_8[u, v] * alpha1[u] * alpha2[v] * cosines[u, v, :, :]\n",
        "\n",
        "  return idct_result.astype(int)"
      ]
    },
    {
      "cell_type": "code",
      "execution_count": null,
      "metadata": {
        "id": "zrkBjKD_t653"
      },
      "outputs": [],
      "source": [
        "def dct(block_8):\n",
        "  '''\n",
        "  This function performs dct \n",
        "  Input: a 2D list of size 8x8\n",
        "  Output: a 2D list of size 8x8 after preforming dct\n",
        "  '''  \n",
        "\n",
        "  #intialize the basis block\n",
        "  basis = np.zeros((8,8))\n",
        "\n",
        "  #looping over the size of the basis and size of the input\n",
        "  dctResult = np.zeros((8,8))\n",
        "\n",
        "  # Pre-compute the scaling factors\n",
        "  alpha1 = np.zeros(8)\n",
        "  alpha1[0] = 1/math.sqrt(8)\n",
        "  alpha1[1:] = np.sqrt(2/8)\n",
        "  alpha2 = np.zeros(8)\n",
        "  alpha2[0] = 1/math.sqrt(8)\n",
        "  alpha2[1:] = np.sqrt(2/8)\n",
        "\n",
        "  for u in range(8):\n",
        "      for v in range(8):\n",
        "          for x in range(8):\n",
        "              for y in range(8):\n",
        "                  #constructing the basis function\n",
        "                  basis[x, y]=(np.cos((1/16)*(2*x+1)*u*np.pi))*(np.cos((1/16)*(2*y+1)*v*np.pi))\n",
        "\n",
        "          #multiplying each pixel to the corresponding basis block and averaging them then storing in dct_result\n",
        "          dctResult[u,v]= alpha1[u]*alpha2[v]*sum(np.multiply(block_8,basis).flatten())\n",
        "  \n",
        "  return dctResult"
      ]
    },
    {
      "cell_type": "code",
      "execution_count": null,
      "metadata": {
        "id": "xU0uCSZe4XkN"
      },
      "outputs": [],
      "source": [
        "def idct(block_8):\n",
        "  '''\n",
        "  This function performs idct \n",
        "  Input: a 2D list of size 8x8\n",
        "  Output: a 2D list of size 8x8 after preforming inverse of dct\n",
        "  ''' \n",
        "  # Pre-compute the scaling factors\n",
        "  alpha1 = np.zeros(8)\n",
        "  alpha1[0] = 1/math.sqrt(8)\n",
        "  alpha1[1:] = np.sqrt(2/8)\n",
        "  alpha2 = np.zeros(8)\n",
        "  alpha2[0] = 1/math.sqrt(8)\n",
        "  alpha2[1:] = np.sqrt(2/8)\n",
        "\n",
        "  #intialize the basis block\n",
        "  basis = np.zeros((8,8))\n",
        "\n",
        "  #looping over the size of the basis and size of the input\n",
        "  idctResult = np.zeros((8,8))\n",
        "  \n",
        "  for u in range(8):\n",
        "      for v in range(8):\n",
        "          for x in range(8):\n",
        "              for y in range(8):\n",
        "                  #constructing the basis block\n",
        "                  basis[x, y]=(np.cos((1/16)*(2*x+1)*u*np.pi))*(np.cos((1/16)*(2*y+1)*v*np.pi))\n",
        "            \n",
        "          # multiplying each value of encoded_block to the corresponding\n",
        "          # basis block and summing the result and storing it in the result_Idct block\n",
        "          idctResult=idctResult+np.multiply(block_8[u,v]*alpha1[u]*alpha2[v], basis)\n",
        "  \n",
        "  return idctResult.astype(int)"
      ]
    },
    {
      "cell_type": "markdown",
      "metadata": {
        "id": "akxgF4yo4JK2"
      },
      "source": [
        ">## Quantization Table"
      ]
    },
    {
      "cell_type": "code",
      "execution_count": null,
      "metadata": {
        "id": "1yDSrQZrxHc0"
      },
      "outputs": [],
      "source": [
        "def quantizationTable(x):\n",
        "  '''\n",
        "  This function used to get quantization table\n",
        "  Input: an integer number from 0 to 2\n",
        "  Output: a 2D list of size 8x8\n",
        "  '''  \n",
        "  if x==0:  #no compression\n",
        "      table = np.ones((8,8))\n",
        "      \n",
        "  elif x==1:  #for Low compression\n",
        "      table = [[1, 1, 1, 1, 1, 2, 2, 4], [1, 1, 1, 1, 1, 2, 2, 4], [1, 1, 1, 1, 2, 2, 2, 4],\n",
        "               [1, 1, 1, 1, 2, 2, 4, 8], [1, 1, 2, 2, 2, 2, 4, 8], [2, 2, 2, 2, 2, 4, 8, 8],\n",
        "               [2, 2, 2, 4, 4, 8, 8, 16], [4, 4, 4, 4, 8, 8, 16, 16]]\n",
        "\n",
        "  elif x==2:  #for high compression\n",
        "      table=[[1, 2, 4, 8, 16, 32, 64, 128], [2, 4, 4, 8, 16, 32, 64, 128],\n",
        "             [4, 4, 8, 16, 32, 64, 128, 128], [8, 8, 16, 32, 64, 128, 128, 256], \n",
        "             [16, 16, 32, 64, 128, 128, 256, 256], [32, 32, 64, 128, 128, 256, 256, 256],\n",
        "             [64, 64, 128, 128, 256, 256, 256, 256], [128, 128, 128, 256, 256, 256, 256, 256]]\n",
        "\n",
        "  elif x==3: #for Luminance\n",
        "    table = [[16,\t11,\t10,\t16,\t24,\t40,\t51,\t61], [12,\t12,\t14,\t19,\t26,\t58,\t60,\t55],\n",
        "            [14,\t13,\t16,\t24,\t40,\t57,\t69,\t56], [14,\t17,\t22,\t29,\t51,\t87,\t80,\t62],\n",
        "            [18,\t22,\t37,\t56,\t68,\t109,\t103,\t77], [24,\t35,\t55,\t64,\t81,\t104,\t113,\t92],\n",
        "            [49,\t64,\t78,\t87,\t103,\t121,\t120,\t101], [72,\t92,\t95,\t98,\t112,\t100,\t103,\t99]]\n",
        "  \n",
        "  return table"
      ]
    },
    {
      "cell_type": "markdown",
      "metadata": {
        "id": "hdMWhyKC6Rx_"
      },
      "source": [
        ">## From 2D to 1D\n",
        "reference for to1D function: https://www.geeksforgeeks.org/print-matrix-in-zig-zag-fashion/"
      ]
    },
    {
      "cell_type": "code",
      "execution_count": null,
      "metadata": {
        "id": "deqqF30P6W2C"
      },
      "outputs": [],
      "source": [
        "def to1D(block_8):\n",
        "  '''\n",
        "  This function performs zigzag method to convert a 2D matrix to 1D\n",
        "  Input: a 2D list of size 8x8\n",
        "  Output: a 1D list\n",
        "  '''  \n",
        "  rows = 8\n",
        "  columns = 8\n",
        "  solution=[[] for i in range(rows+columns-1)]\n",
        "  \n",
        "  for i in range(rows):\n",
        "      for j in range(columns):\n",
        "          sum=i+j\n",
        "          if(sum%2 ==0):\n",
        "  \n",
        "              #add at beginning\n",
        "              solution[sum].insert(0,block_8[i][j])\n",
        "          else:\n",
        "  \n",
        "              #add at end of the list\n",
        "              solution[sum].append(block_8[i][j])   \n",
        "                      \n",
        "  return [item for sublist in solution for item in sublist]"
      ]
    },
    {
      "cell_type": "code",
      "execution_count": null,
      "metadata": {
        "id": "nrEPrL2NTbdx"
      },
      "outputs": [],
      "source": [
        "def to2D(arr):\n",
        "  '''\n",
        "  This function performs inverse of zigzag method to convert a 1D list to 2D matrix\n",
        "  Input: a 1D list of length 64\n",
        "  Output: a 2D list of size 8x8\n",
        "  '''  \n",
        "  rows = 8\n",
        "  columns = 8\n",
        "  solution=[[] for i in range(rows+columns-1)]\n",
        "\n",
        "  j = 0\n",
        "\n",
        "  for i in range(len(solution)):\n",
        "    temp = []\n",
        "\n",
        "    length = i+1\n",
        "\n",
        "    if(length>rows):\n",
        "      length = len(solution) - i\n",
        "\n",
        "    while (1):\n",
        "      temp = temp + [arr[i+j]]\n",
        "\n",
        "      if(len(temp) == length):\n",
        "        break\n",
        "  \n",
        "      j = j + 1\n",
        "\n",
        "    solution[i] = temp\n",
        "\n",
        "  y = []\n",
        "  for i in range(rows):\n",
        "    y.append([0]*columns)\n",
        " \n",
        "  for i in range(len(solution)):\n",
        "    sublist = solution[i]\n",
        "    for j in range(len(sublist)):\n",
        "\n",
        "      if(i+1>rows):\n",
        "        min = rows - len(sublist)\n",
        "        max = rows-1\n",
        "      else:\n",
        "        min = 0\n",
        "        max = len(sublist)-1\n",
        "\n",
        "      if(i%2==0):\n",
        "        row = max-j\n",
        "        col = min + j\n",
        "      else:\n",
        "        row = min + j\n",
        "        col = max-j\n",
        "\n",
        "      y[row][col] = sublist[j]\n",
        "\n",
        "  return y"
      ]
    },
    {
      "cell_type": "markdown",
      "metadata": {
        "id": "PYGUtqnCEqMN"
      },
      "source": [
        ">## Run - Length Encoding & Decoding"
      ]
    },
    {
      "cell_type": "code",
      "execution_count": null,
      "metadata": {
        "id": "raJjwVRZEvOd"
      },
      "outputs": [],
      "source": [
        "def runenc(block_8):\n",
        "    '''\n",
        "    This function performs run length encoding \n",
        "    Input: a 1D list of any size\n",
        "    Output: a 1D list of variable size\n",
        "    '''  \n",
        "    encoded = []\n",
        "    i = 0\n",
        " \n",
        "    while (i <= len(block_8)-1):\n",
        "        count = 1\n",
        "        ch = block_8[i]\n",
        "        j = i\n",
        "        while (j < len(block_8)-1):\n",
        "            #if the current value equals zero and next value equals zero then increment count and loop again \n",
        "            if (block_8[j] == 0 and block_8[j] == block_8[j+1]):\n",
        "                count = count+1\n",
        "                j = j+1\n",
        "            #else break the while loop then add the element to the encoded list\n",
        "            else:\n",
        "                break\n",
        "        encoded.append(ch)\n",
        "        #if the element equals zero then add count to the encoded list\n",
        "        if(ch == 0):\n",
        "          encoded.append(count)\n",
        "        i = j+1\n",
        "    return encoded"
      ]
    },
    {
      "cell_type": "code",
      "execution_count": null,
      "metadata": {
        "id": "-AgHVas0NgrG"
      },
      "outputs": [],
      "source": [
        "def rundec(arr):\n",
        "    '''\n",
        "    This function performs run length decoding \n",
        "    Input: a 1D list of any size\n",
        "    Output: a 1D list after performing run length decoding \n",
        "    '''  \n",
        "    decoded = []\n",
        "    i = 0\n",
        "\n",
        "    while(i<len(arr)):\n",
        "      #if the value not equal zero append it\n",
        "      if(arr[i]):\n",
        "        decoded.append(arr[i])\n",
        "        i = i + 1\n",
        "      #if the value equals zero then create list of zeros with size from the next value and add it to the decoded list\n",
        "      else:\n",
        "        decoded = decoded + [0] * int(arr[i+1])\n",
        "        i = i + 2\n",
        "    return decoded"
      ]
    },
    {
      "cell_type": "markdown",
      "metadata": {
        "id": "trIQ78gqSXzL"
      },
      "source": [
        ">## JPEG"
      ]
    },
    {
      "cell_type": "markdown",
      "metadata": {
        "id": "DCcUlkDSSaFL"
      },
      "source": [
        ">>### Helper Funtions"
      ]
    },
    {
      "cell_type": "code",
      "execution_count": null,
      "metadata": {
        "id": "lHq7lSJgWazl"
      },
      "outputs": [],
      "source": [
        "def use_huffenc(runOut):\n",
        "  '''\n",
        "  This function calculates probabilities for each unique value in the input \n",
        "  and performs huffman encoding \n",
        "  Input: a 1D list\n",
        "  Output: encoded string and the root of the encoding tree\n",
        "  '''  \n",
        "  # Get Probabilities\n",
        "  freq = Counter(runOut)\n",
        "  value = list(freq.keys())\n",
        "  prob = np.divide(np.array(list(freq.values())), len(runOut)).tolist()\n",
        "  \n",
        "  # Encode\n",
        "  avL, map, root = huffenc(value, prob)\n",
        "  huffencoded = ''\n",
        "  for i in runOut:\n",
        "    huffencoded = huffencoded + map[i][0]\n",
        "  return huffencoded, root"
      ]
    },
    {
      "cell_type": "code",
      "execution_count": null,
      "metadata": {
        "id": "z-DQWa4RW_BK"
      },
      "outputs": [],
      "source": [
        "def use_arithenc(runOut, numSym = 128):\n",
        "  '''\n",
        "  This function divides a list to sublists \n",
        "  and calculates probabilities for each unique value in sublist\n",
        "  then performs arithmetic encoding for each sublist\n",
        "  Input: a 1D list\n",
        "  Output: unique values and their probabilities, encoded list of strings,\n",
        "          and the number of symbols in each sublist\n",
        "  '''  \n",
        "\n",
        "  # Get Probabilities\n",
        "  freq = Counter(runOut)\n",
        "  value = list(freq.keys())\n",
        "  prob = []\n",
        "  for i in freq.values():\n",
        "    prob.append(Fraction(i, len(runOut)))\n",
        "    \n",
        "  #encode\n",
        "  encoded = []  \n",
        "  last_numSym = 0\n",
        "  for i in range(0, len(runOut), numSym):\n",
        "    if i+numSym>len(runOut):\n",
        "      x = runOut[i:len(runOut)]\n",
        "      last_numSym = len(x)\n",
        "    else:\n",
        "      x = runOut[i:i+numSym]\n",
        "    encoded.append(arithEnc(x, value, prob))\n",
        "\n",
        "  helper = ((numSym, last_numSym), value, prob)\n",
        "  return encoded, helper"
      ]
    },
    {
      "cell_type": "code",
      "execution_count": null,
      "metadata": {
        "id": "JyhTBzuTLcO5"
      },
      "outputs": [],
      "source": [
        "def use_arithdec(encoded, helper):\n",
        "  '''\n",
        "  This function performs arithmetic decoding for each string in encoded list,\n",
        "  then put them in one list\n",
        "  Input: encoded list of strings, unique values and their probabilities,\n",
        "          and the number of symbols in each encoded string\n",
        "  Output: list of decoded symbols\n",
        "  '''  \n",
        "  numSym = helper[0]\n",
        "  values = helper[1]\n",
        "  probs = helper[2]\n",
        "\n",
        "  decoded = []\n",
        "  n = numSym[0]\n",
        "  for i in range(len(encoded)):\n",
        "    if i == len(encoded) - 1 and numSym[1]:\n",
        "      n = numSym[1]\n",
        "    decoded.append(arithDec(encoded[i], values, probs, n))\n",
        "  return [i for x in decoded for i in x]"
      ]
    },
    {
      "cell_type": "markdown",
      "metadata": {
        "id": "3BKbjDE9Uyuz"
      },
      "source": [
        ">>### Encoding "
      ]
    },
    {
      "cell_type": "code",
      "execution_count": null,
      "metadata": {
        "id": "1tjHKkXlSXH6"
      },
      "outputs": [],
      "source": [
        "def jpegEnc(q, img, coding_function):\n",
        "  '''\n",
        "  This function performs JPEG encoding\n",
        "  Input: quatization table option as integer, image, \n",
        "  and entropy encoding function as string\n",
        "  Output: encoded string\n",
        "          and unique helper depends on type of entropy encoding function for decoding\n",
        "  '''  \n",
        "\n",
        "  # Divide Into 8x8 Blocks\n",
        "  blocks = []\n",
        "  i = 0\n",
        "  j = 0\n",
        "\n",
        "  for i in range(0,size,8):\n",
        "      for j in range(0,size,8):\n",
        "        blocks.append(img[i:i+8,j:j+8])\n",
        "  \n",
        "  #preform DCT\n",
        "  dctOut = [dct_optimized(block_8) for block_8 in blocks]\n",
        "\n",
        "  # Use Quantization Table\n",
        "  qTable = quantizationTable(q)\n",
        "  qOut = []\n",
        "  for block_8 in dctOut:\n",
        "    newBlock = np.divide(block_8, qTable)\n",
        "    for i in range(len(newBlock)):\n",
        "      newBlock[i] = [round(item) for item in newBlock[i]]\n",
        "    qOut.append(newBlock)\n",
        "  \n",
        "  # convert to 1D\n",
        "  arr1D = []\n",
        "  for block_8 in qOut:\n",
        "    arr1D.append(to1D(block_8))\n",
        "  arr1D = np.array(arr1D).flatten()\n",
        "\n",
        "  # Use Run-Length Encoding\n",
        "  runOut = runenc(arr1D)\n",
        "\n",
        "  # Use Entropy coding function to calculate probabilties and encode the run length output\n",
        "  if coding_function == 'Huffman':\n",
        "    encoded, helper = use_huffenc(runOut)\n",
        "  elif coding_function == 'Arithmetic':\n",
        "    encoded, helper =use_arithenc(runOut)\n",
        "\n",
        "  return encoded, helper"
      ]
    },
    {
      "cell_type": "markdown",
      "metadata": {
        "id": "FfMj-2YWU-eT"
      },
      "source": [
        ">>### Decoding"
      ]
    },
    {
      "cell_type": "code",
      "execution_count": null,
      "metadata": {
        "id": "b5Knz8emTwta"
      },
      "outputs": [],
      "source": [
        "def jpegDec(q, encoded, helper, coding_function):\n",
        "  '''\n",
        "  This function performs JPEG decoding\n",
        "  Input: quatization table option as integer, encoded string, \n",
        "         helper for entropy decoding, and entropy coding function as string\n",
        "  Output: image\n",
        "  '''  \n",
        "  # Use Entropy Decoding function\n",
        "  if coding_function == 'Huffman':\n",
        "    decoded = huffdec(encoded, helper)\n",
        "  elif coding_function == 'Arithmetic':\n",
        "    decoded = use_arithdec(encoded, helper)\n",
        " \n",
        "  # Use Run-Length Decoding\n",
        "  rundecoded = rundec(decoded)\n",
        "\n",
        "  # Convert to 2D\n",
        "  arr2D = []\n",
        "  i = 0\n",
        "  while (i<len(rundecoded)):\n",
        "    arr2D.append(to2D(rundecoded[i:i+64]))\n",
        "    i = i + 64\n",
        "  \n",
        "  # Multiply by Quantization Table\n",
        "  qTable = quantizationTable(q)\n",
        "  qDecOut = []\n",
        "  for block_8 in arr2D:\n",
        "    newBlock = np.multiply(block_8, qTable)\n",
        "    for i in range(len(newBlock)):\n",
        "      newBlock[i] = [round(item) for item in newBlock[i]]\n",
        "    qDecOut.append(newBlock)\n",
        "  \n",
        "  # Use IDCT\n",
        "  idctOut = [idct_optimized(block_8) for block_8 in qDecOut]\n",
        "\n",
        "  # Combine 8x8 Blocks\n",
        "  image = np.zeros((size, size)).astype(np.uint8)\n",
        "  i = 0\n",
        "  j = 0\n",
        "  index = 0\n",
        "\n",
        "  for i in range(0,size,8):\n",
        "      for j in range(0,size,8):\n",
        "        image[i:i+8, j:j+8] = idctOut[index]\n",
        "        index = index + 1\n",
        "\n",
        "  #create image\n",
        "  image = Image.fromarray(image, 'L')\n",
        "\n",
        "  return image"
      ]
    },
    {
      "cell_type": "markdown",
      "metadata": {
        "id": "D3DaPStk_Ldw"
      },
      "source": [
        "## Estimation"
      ]
    },
    {
      "cell_type": "markdown",
      "metadata": {
        "id": "JHV3QDhKyHeM"
      },
      "source": [
        "This function performs motion estimation using \"mean square error\" as it calculate the \"MSE\" for each block of the surrounding area and record how to reach the least one of them.\n",
        "\n",
        "    1. Input: refrance frame, current frame, and the block size that to be matched.\n",
        "\n",
        "    2. Output: Motion vectro as 2D array."
      ]
    },
    {
      "cell_type": "code",
      "execution_count": null,
      "metadata": {
        "id": "2LXvIXG5OnSP"
      },
      "outputs": [],
      "source": [
        "def estimation(ref, current, Block_size):\n",
        "  height = ref.shape[0] #360\n",
        "  width = ref.shape[1] #640\n",
        "  #print(height/Block_size)\n",
        "  residual_image = np.zeros((height, width))\n",
        "  motion_vector = []\n",
        "  for i in range(int(height/Block_size)):\n",
        "    for j in range(int(width/Block_size)):\n",
        "      c_start_i = i*Block_size\n",
        "      c_end_i = i*Block_size+Block_size\n",
        "      c_start_j = j*Block_size\n",
        "      c_end_j = j*Block_size+Block_size\n",
        "      c = current[c_start_i:c_end_i, c_start_j:c_end_j] \n",
        "      #print(c)\n",
        "      r_start_i = max(c_start_i-Block_size, 0)\n",
        "      r_end_i = min(c_end_i+Block_size, width)\n",
        "      r_start_j = max(c_start_j-Block_size, 0)\n",
        "      r_end_j = min(c_end_j+Block_size, height)\n",
        "      check_9_blocks = ref[r_start_i:r_end_i, r_start_j:r_end_j]\n",
        "      #print(check_9_blocks)\n",
        "      height_ch = check_9_blocks.shape[0] # [4:9]*Block_size\n",
        "      width_ch = check_9_blocks.shape[1] # [4:9]*Block_size\n",
        "      error = inf\n",
        "      vects = [-Block_size, -Block_size]\n",
        "      if i==0: vects[0] = 0\n",
        "      if j==0: vects[1] = 0\n",
        "      for n in range(height_ch-Block_size+1):\n",
        "        for m in range(width_ch-Block_size+1):\n",
        "          mat_mse = (c - check_9_blocks[n:n+Block_size,m:m+Block_size])**2\n",
        "          sum_mat_mse = sum([sum(row) for row in mat_mse])\n",
        "          error2 = min(error, sum_mat_mse)\n",
        "          if error2 != error:\n",
        "            ind1 = n\n",
        "            ind2 = m\n",
        "          error = error2\n",
        "      vects[0] = vects[0] + ind1\n",
        "      vects[1] = vects[1] + ind2\n",
        "      motion_vector.append(vects) \n",
        "      #print(vects)\n",
        "\n",
        "  return motion_vector"
      ]
    },
    {
      "cell_type": "markdown",
      "metadata": {
        "id": "XFUWAPxz_WsJ"
      },
      "source": [
        "# compensation"
      ]
    },
    {
      "cell_type": "markdown",
      "metadata": {
        "id": "w5dMOoXrzpb3"
      },
      "source": [
        "This function performs Motion compensation using the output of the Motion estimation \"the motion vector\" to predict how the refrance image will be and where to expect each block by appling the motion vector to the refrance frame while looping at each index on the current frame and moving the the best match from the refrance at the same index as the current in a new matrix called the predict image and then suptracting that predict image from the current frame to get the residual image.\n",
        "\n",
        "    1. Input: refrance frame, current frame, the block size that to be matched, and the motion vector.\n",
        "\n",
        "    2. Output: predict image and residual image."
      ]
    },
    {
      "cell_type": "code",
      "execution_count": null,
      "metadata": {
        "id": "z75SnZh4japn"
      },
      "outputs": [],
      "source": [
        "def compensation(ref, current, Block_size, motion_vector):\n",
        "  height = ref.shape[0] #360\n",
        "  width = ref.shape[1] #640\n",
        "  predict_image = np.zeros((height, width))\n",
        "  residual_image = np.zeros((height, width))\n",
        "  count = 0\n",
        "  for k in range(int(height/Block_size)):\n",
        "    for l in range(int(width/Block_size)):\n",
        "      c_start_k = k*Block_size\n",
        "      c_end_k = k*Block_size+Block_size\n",
        "      c_start_l = l*Block_size\n",
        "      c_end_l = l*Block_size+Block_size\n",
        "    \n",
        "      p_start_k = c_start_k + motion_vector[count][0]\n",
        "      p_end_k = c_end_k + motion_vector[count][0]\n",
        "      p_start_l = c_start_l + motion_vector[count][1]\n",
        "      p_end_l = c_end_l + motion_vector[count][1]\n",
        "\n",
        "      #method 1\n",
        "      the_one_to_minus_from = current[c_start_k:c_end_k, c_start_l:c_end_l]\n",
        "      the_minused_one = ref[p_start_k:p_end_k, p_start_l:p_end_l]\n",
        "      residual_image[c_start_k:c_end_k, c_start_l:c_end_l] = the_one_to_minus_from - the_minused_one\n",
        "      #method 2\n",
        "      predict_image[c_start_k:c_end_k, c_start_l:c_end_l] = the_minused_one\n",
        "      count+=1; \n",
        "  return predict_image, residual_image"
      ]
    },
    {
      "cell_type": "markdown",
      "metadata": {
        "id": "kmQhYbUWAtcY"
      },
      "source": [
        "# Decompensation"
      ]
    },
    {
      "cell_type": "markdown",
      "metadata": {
        "id": "qDY0SHkg1wJv"
      },
      "source": [
        "This function performs the same as the encoder Motion compensation as it uses \"the motion vector\" to predect how the refrance image will be and where to expect each block by appling the motion vector to the refrance frame while looping at each index on the residual frame and moving the the best match from the refrance at the same index as the residual in a new matrix called the predict image and then adding that predict image to the residual frame to get the current image.\n",
        "\n",
        "    1. Input: refrance frame, residual image, the block size that to be matched, and the motion vector.\n",
        "\n",
        "    2. Output: current image."
      ]
    },
    {
      "cell_type": "code",
      "execution_count": null,
      "metadata": {
        "id": "twvzcqAioUoQ"
      },
      "outputs": [],
      "source": [
        "def de_compensation(ref, residual_image, Block_size, motion_vector):\n",
        "  height = ref.shape[0] #360\n",
        "  width = ref.shape[1] #640\n",
        "  predict_image = np.zeros((height, width))\n",
        "  current = np.zeros((height, width))\n",
        "  count = 0\n",
        "  for k in range(int(height/Block_size)):\n",
        "    for l in range(int(width/Block_size)):\n",
        "      c_start_k = k*Block_size\n",
        "      c_end_k = k*Block_size+Block_size\n",
        "      c_start_l = l*Block_size\n",
        "      c_end_l = l*Block_size+Block_size\n",
        "    \n",
        "      p_start_k = c_start_k + motion_vector[count][0]\n",
        "      p_end_k = c_end_k + motion_vector[count][0]\n",
        "      p_start_l = c_start_l + motion_vector[count][1]\n",
        "      p_end_l = c_end_l + motion_vector[count][1]\n",
        "\n",
        "      #method 1\n",
        "      one_to_add = residual_image[c_start_k:c_end_k, c_start_l:c_end_l]\n",
        "      add_to_one = ref[p_start_k:p_end_k, p_start_l:p_end_l]\n",
        "      current[c_start_k:c_end_k, c_start_l:c_end_l] = one_to_add + add_to_one\n",
        "      #method 2\n",
        "      predict_image[c_start_k:c_end_k, c_start_l:c_end_l] = add_to_one\n",
        "      count+=1; \n",
        "  return predict_image, current"
      ]
    },
    {
      "cell_type": "markdown",
      "metadata": {
        "id": "qyalvEhJotPo"
      },
      "source": [
        "# Make Video"
      ]
    },
    {
      "cell_type": "code",
      "execution_count": null,
      "metadata": {
        "id": "SSK1qMVboydo"
      },
      "outputs": [],
      "source": [
        "def make_video(filename,images):\n",
        "  '''\n",
        "  This function convert a vector of images to a video\n",
        "  inputs: 1. filename: file name of the video wanted to be created\n",
        "          2. images: vector of images wanted to collected as a video\n",
        "  output: there is no output, but a video created\n",
        "  '''\n",
        "  #getting images dimentions\n",
        "  height, width = images[0].shape\n",
        "  size = (width, height)\n",
        "  #setting the function of the video\n",
        "  out = cv2.VideoWriter(filename,cv2.VideoWriter_fourcc(*'MJPG'), 25, size,0)\n",
        "\n",
        "  #looping into images to create the video\n",
        "  for i in range(len(images)):\n",
        "\n",
        "    out.write(images[i].astype(np.uint8))\n",
        "  #creating the video\n",
        "  out.release()\n",
        "\n"
      ]
    },
    {
      "cell_type": "markdown",
      "metadata": {
        "id": "JjR6qNk9o3py"
      },
      "source": [
        "# Motion Vector transform"
      ]
    },
    {
      "cell_type": "code",
      "execution_count": null,
      "metadata": {
        "id": "MM5mJOy7pB3a"
      },
      "outputs": [],
      "source": [
        "def transform(flat_Motion_vector):\n",
        "  get=[]\n",
        "  r=0\n",
        "  for u in range(0,int(len( flat_Motion_vector)/2),1):\n",
        "    get.append([])\n",
        "    get[u].append(flat_Motion_vector[r])\n",
        "    get[u].append(flat_Motion_vector[r+1])\n",
        "    r=r+2\n",
        "  return get\n"
      ]
    },
    {
      "cell_type": "markdown",
      "metadata": {
        "id": "fauVoW007nUY"
      },
      "source": [
        "# Comperssion ratio"
      ]
    },
    {
      "cell_type": "code",
      "execution_count": null,
      "metadata": {
        "id": "6Cj99DSe7mgp"
      },
      "outputs": [],
      "source": [
        "def comperssion_ratio(Book,size):\n",
        "\n",
        "  c=0\n",
        "  c=c+len(Book[0])\n",
        "  for t in range(1,len(Book),1):\n",
        "\n",
        "\n",
        "    c=c+len(Book[t][0])+len(Book[t][2])\n",
        "\n",
        "  return ((len(Book)*size*size*8)/c)"
      ]
    },
    {
      "cell_type": "markdown",
      "metadata": {
        "id": "nEHDxCh0-yGM"
      },
      "source": [
        "# Testing"
      ]
    },
    {
      "cell_type": "code",
      "execution_count": null,
      "metadata": {
        "colab": {
          "base_uri": "https://localhost:8080/"
        },
        "id": "ooeVSqGKj7bb",
        "outputId": "0fbad78d-5a6d-40fd-96b6-f55bb7b183b8"
      },
      "outputs": [
        {
          "output_type": "stream",
          "name": "stdout",
          "text": [
            "Drive already mounted at /content/drive; to attempt to forcibly remount, call drive.mount(\"/content/drive\", force_remount=True).\n"
          ]
        }
      ],
      "source": [
        "from google.colab import drive\n",
        "drive.mount('/content/drive')"
      ]
    },
    {
      "cell_type": "code",
      "execution_count": null,
      "metadata": {
        "id": "UfxyCN5o_UTL"
      },
      "outputs": [],
      "source": [
        "#choose size for video dimensions\n",
        "size = 512\n",
        "ved = []\n",
        "\n",
        "cap = cv2.VideoCapture(\"/content/drive/MyDrive/info/vid.mp4\")\n",
        "\n",
        "while (cap.isOpened()):\n",
        "    flag, img = cap.read()\n",
        "    if (flag==False): break\n",
        "    gray = cv2.cvtColor(img, cv2.COLOR_BGR2GRAY)\n",
        "    gray = cv2.resize(gray, (size, size))\n",
        "    ved.append(gray)\n",
        "\n",
        "count = 0\n",
        "\n",
        "cv2.destroyAllWindows()\n",
        "cap.release()"
      ]
    },
    {
      "cell_type": "markdown",
      "source": [
        ">## Using Huffman"
      ],
      "metadata": {
        "id": "q-dZ05fswKKl"
      }
    },
    {
      "cell_type": "code",
      "source": [
        "#choose low (1) or high (2) compression or choose q = 0 for no compression\n",
        "q = 2\n",
        "\n",
        "#choose Entropy coding function from the following options: 1- Huffman 2- Arithmetic\n",
        "coding_function = 'Huffman'"
      ],
      "metadata": {
        "id": "nl3XypUjwNZ7"
      },
      "execution_count": null,
      "outputs": []
    },
    {
      "cell_type": "markdown",
      "source": [
        ">>### First Frame"
      ],
      "metadata": {
        "id": "VBwtfnmJYczA"
      }
    },
    {
      "cell_type": "code",
      "source": [
        "ref = ved[0]\n",
        "encoded, helper = jpegEnc(q, ref, coding_function)\n",
        "Get_dec = jpegDec(q, encoded, helper, coding_function)\n",
        "ref_jepg = np.asarray(Get_dec)"
      ],
      "metadata": {
        "id": "9_cqP-mcYjKy"
      },
      "execution_count": null,
      "outputs": []
    },
    {
      "cell_type": "code",
      "source": [
        "#reference image before lossing compression\n",
        "cv2_imshow(ref)"
      ],
      "metadata": {
        "id": "dAevNKIPr-Gn",
        "colab": {
          "base_uri": "https://localhost:8080/",
          "height": 273
        },
        "outputId": "16cb355f-bd7a-46b3-d9c7-e6e17128b451"
      },
      "execution_count": null,
      "outputs": [
        {
          "output_type": "display_data",
          "data": {
            "text/plain": [
              "<PIL.Image.Image image mode=L size=256x256 at 0x7F016DB0AAF0>"
            ],
            "image/png": "[encoded data removed]"
          },
          "metadata": {}
        }
      ]
    },
    {
      "cell_type": "code",
      "source": [
        "#reference image after lossing compression\n",
        "cv2_imshow(ref_jepg)"
      ],
      "metadata": {
        "id": "kjRlCazCtsqp",
        "colab": {
          "base_uri": "https://localhost:8080/",
          "height": 273
        },
        "outputId": "a61ec240-b109-4e7e-cfae-6d82907b9b7e"
      },
      "execution_count": null,
      "outputs": [
        {
          "output_type": "display_data",
          "data": {
            "text/plain": [
              "<PIL.Image.Image image mode=L size=256x256 at 0x7F016DB0A310>"
            ],
            "image/png": "[encoded data removed]"
          },
          "metadata": {}
        }
      ]
    },
    {
      "cell_type": "markdown",
      "source": [
        ">>### All Frames"
      ],
      "metadata": {
        "id": "aWWkfzasZsZF"
      }
    },
    {
      "cell_type": "code",
      "source": [
        "Block_size = 1\n",
        "Book=[]\n",
        "Book.append(encoded)\n",
        "for current in range(1,len(ved)):\n",
        "  current_frame=np.array(ved[current], dtype='int')\n",
        "\n",
        "  motion_vector=estimation(ref_jepg, current_frame, Block_size)\n",
        "  a, b = compensation(ref_jepg, current_frame, Block_size, motion_vector)\n",
        "  get_b_encoded, get_b_helper =jpegEnc(q, b , 'Huffman')\n",
        "  print(current)\n",
        "  flat_Motion_vector = [item for sublist in motion_vector for item in sublist]\n",
        "  flat_Motion_vector_encoded,helper_flat_Motion_vector=use_huffenc(flat_Motion_vector)\n",
        "  Book.append([flat_Motion_vector_encoded,helper_flat_Motion_vector,get_b_encoded, get_b_helper])"
      ],
      "metadata": {
        "id": "xLjWJTskGGTw"
      },
      "execution_count": null,
      "outputs": []
    },
    {
      "cell_type": "code",
      "source": [
        "vect=[]\n",
        "vect.append(ref_jepg)\n",
        "for current in range(1,len(ved)): \n",
        "  decoded=huffdec(Book[current][0],Book[current][1])\n",
        "\n",
        "  RX_motion_vector=decoded\n",
        "  RX_motion_vector=transform(decoded)\n",
        "\n",
        "  RX_Img_b=(jpegDec(q, Book[current][2],Book[current][3], 'Huffman'))\n",
        "\n",
        "  c, d = de_compensation(ref_jepg, asarray(RX_Img_b), Block_size, RX_motion_vector)\n",
        "\n",
        "  cv2_imshow(d)\n",
        "  vect.append(d)"
      ],
      "metadata": {
        "id": "KBUL_KEK_Ion"
      },
      "execution_count": null,
      "outputs": []
    },
    {
      "cell_type": "code",
      "source": [
        "images = vect\n",
        "filename = 'out_xyl_highq_huffman.mp4'\n",
        "#converting the vector of images to a video \n",
        "make_video(filename, images)"
      ],
      "metadata": {
        "id": "y06WmmLtEju2"
      },
      "execution_count": null,
      "outputs": []
    },
    {
      "cell_type": "code",
      "source": [
        "ved[0].shape"
      ],
      "metadata": {
        "colab": {
          "base_uri": "https://localhost:8080/"
        },
        "id": "0tgwogc2D-5i",
        "outputId": "b1420752-f7aa-491b-c903-84856de8964a"
      },
      "execution_count": null,
      "outputs": [
        {
          "output_type": "execute_result",
          "data": {
            "text/plain": [
              "(256, 256)"
            ]
          },
          "metadata": {},
          "execution_count": 56
        }
      ]
    },
    {
      "cell_type": "code",
      "source": [
        "cm0 = comperssion_ratio(Book, 256)\n",
        "print('Comperission ratio of the HIGH quan table: ', cm0)"
      ],
      "metadata": {
        "colab": {
          "base_uri": "https://localhost:8080/"
        },
        "id": "GpKuoeQ8Jv7r",
        "outputId": "4e5d9ffd-572e-4455-875e-62ecdb80bddd"
      },
      "execution_count": null,
      "outputs": [
        {
          "output_type": "stream",
          "name": "stdout",
          "text": [
            "Comperission ratio of the HIGH quan table:  1.907093841097751\n"
          ]
        }
      ]
    },
    {
      "cell_type": "markdown",
      "source": [
        "### Test 2 ( low - Huffman - 1)"
      ],
      "metadata": {
        "id": "LBtMDnEU702l"
      }
    },
    {
      "cell_type": "code",
      "source": [
        "#choose low (1) or high (2) compression or choose q = 0 for no compression\n",
        "q = 1\n",
        "\n",
        "#choose Entropy coding function from the following options: 1- Huffman 2- Arithmetic\n",
        "coding_function = 'Huffman'"
      ],
      "metadata": {
        "id": "2A4qvFL84O-t"
      },
      "execution_count": null,
      "outputs": []
    },
    {
      "cell_type": "code",
      "source": [
        "ref = ved[0]\n",
        "encoded, helper = jpegEnc(q, ref, coding_function)\n",
        "Get_dec = jpegDec(q, encoded, helper, coding_function)\n",
        "ref_jepg = np.asarray(Get_dec)"
      ],
      "metadata": {
        "id": "mge8fU2K4ywb"
      },
      "execution_count": null,
      "outputs": []
    },
    {
      "cell_type": "code",
      "source": [
        "#reference image before lossing compression\n",
        "cv2_imshow(ref)"
      ],
      "metadata": {
        "colab": {
          "base_uri": "https://localhost:8080/",
          "height": 273
        },
        "id": "sUyIRpg-47oC",
        "outputId": "909bae39-f74b-46ef-eafd-5f34b811eaee"
      },
      "execution_count": null,
      "outputs": [
        {
          "output_type": "display_data",
          "data": {
            "text/plain": [
              "<PIL.Image.Image image mode=L size=256x256 at 0x7F0179D13E50>"
            ],
            "image/png": "[encoded data removed]"
          },
          "metadata": {}
        }
      ]
    },
    {
      "cell_type": "code",
      "source": [
        "#reference image after lossing compression\n",
        "cv2_imshow(ref_jepg)"
      ],
      "metadata": {
        "colab": {
          "base_uri": "https://localhost:8080/",
          "height": 273
        },
        "id": "rgsO8x0L5AAL",
        "outputId": "200d9b44-6b38-4e21-f942-504c29fdffd9"
      },
      "execution_count": null,
      "outputs": [
        {
          "output_type": "display_data",
          "data": {
            "text/plain": [
              "<PIL.Image.Image image mode=L size=256x256 at 0x7F0179D13640>"
            ],
            "image/png": "[encoded data removed]"
          },
          "metadata": {}
        }
      ]
    },
    {
      "cell_type": "code",
      "source": [
        "Block_size = 1\n",
        "Book1=[]\n",
        "Book1.append(encoded)\n",
        "for current in range(1,len(ved)):\n",
        "  current_frame=np.array(ved[current], dtype='int')\n",
        "\n",
        "  motion_vector=estimation(ref_jepg, current_frame, Block_size)\n",
        "  a, b = compensation(ref_jepg, current_frame, Block_size, motion_vector)\n",
        "  get_b_encoded, get_b_helper =jpegEnc(q, b , 'Huffman')\n",
        "  print(current)\n",
        "  flat_Motion_vector = [item for sublist in motion_vector for item in sublist]\n",
        "  flat_Motion_vector_encoded,helper_flat_Motion_vector=use_huffenc(flat_Motion_vector)\n",
        "  Book1.append([flat_Motion_vector_encoded,helper_flat_Motion_vector,get_b_encoded, get_b_helper])"
      ],
      "metadata": {
        "id": "8_N1gyUI5GP7"
      },
      "execution_count": null,
      "outputs": []
    },
    {
      "cell_type": "code",
      "source": [
        "vect1=[]\n",
        "vect1.append(ref_jepg)\n",
        "for current in range(1,len(ved)): \n",
        "  decoded=huffdec(Book1[current][0],Book1[current][1])\n",
        "\n",
        "  RX_motion_vector=decoded\n",
        "  RX_motion_vector=transform(decoded)\n",
        "\n",
        "  RX_Img_b=(jpegDec(q, Book1[current][2],Book1[current][3], 'Huffman'))\n",
        "\n",
        "  c, d = de_compensation(ref_jepg, asarray(RX_Img_b), Block_size, RX_motion_vector)\n",
        "\n",
        "  cv2_imshow(d)\n",
        "  vect1.append(d)"
      ],
      "metadata": {
        "id": "q9a5wsHf80Ds"
      },
      "execution_count": null,
      "outputs": []
    },
    {
      "cell_type": "code",
      "source": [
        "images1 = vect1\n",
        "filename1 = 'out_xyl_lowq_huffman.mp4'\n",
        "#converting the vector of images to a video \n",
        "make_video(filename1, images1)"
      ],
      "metadata": {
        "id": "scRejT62816K"
      },
      "execution_count": null,
      "outputs": []
    },
    {
      "cell_type": "code",
      "source": [
        "cm = comperssion_ratio(Book1, 256)\n",
        "print('Comperission ratio of the LOW quan table: ', cm)"
      ],
      "metadata": {
        "colab": {
          "base_uri": "https://localhost:8080/"
        },
        "id": "cIawfvwJElbA",
        "outputId": "0925c7f6-c64a-4a29-eb5a-d6fe66179a61"
      },
      "execution_count": null,
      "outputs": [
        {
          "output_type": "stream",
          "name": "stdout",
          "text": [
            "Comperission ratio of the LOW quan table:  1.2384285140844622\n"
          ]
        }
      ]
    },
    {
      "cell_type": "markdown",
      "source": [
        "### Test 3 ( low - Huffman - 8)"
      ],
      "metadata": {
        "id": "1EkpDw-GOrDI"
      }
    },
    {
      "cell_type": "code",
      "source": [
        "#choose low (1) or high (2) compression or choose q = 0 for no compression\n",
        "q = 1\n",
        "\n",
        "#choose Entropy coding function from the following options: 1- Huffman 2- Arithmetic\n",
        "coding_function = 'Huffman'"
      ],
      "metadata": {
        "id": "iYxgjrEIOs_S"
      },
      "execution_count": null,
      "outputs": []
    },
    {
      "cell_type": "code",
      "source": [
        "ref = ved[0]\n",
        "encoded, helper = jpegEnc(q, ref, coding_function)\n",
        "Get_dec = jpegDec(q, encoded, helper, coding_function)\n",
        "ref_jepg = np.asarray(Get_dec)"
      ],
      "metadata": {
        "id": "CRBFo-GiO2LO"
      },
      "execution_count": null,
      "outputs": []
    },
    {
      "cell_type": "code",
      "source": [
        "#reference image before lossing compression\n",
        "cv2_imshow(ref)"
      ],
      "metadata": {
        "colab": {
          "base_uri": "https://localhost:8080/",
          "height": 273
        },
        "id": "eT6QbcNRO72y",
        "outputId": "baeef46e-98d3-4e50-a84b-9b9d8de4de6d"
      },
      "execution_count": null,
      "outputs": [
        {
          "output_type": "display_data",
          "data": {
            "text/plain": [
              "<PIL.Image.Image image mode=L size=256x256 at 0x7F016DB0ABE0>"
            ],
            "image/png": "[encoded data removed]"
          },
          "metadata": {}
        }
      ]
    },
    {
      "cell_type": "code",
      "source": [
        "#reference image after lossing compression\n",
        "cv2_imshow(ref_jepg)"
      ],
      "metadata": {
        "colab": {
          "base_uri": "https://localhost:8080/",
          "height": 273
        },
        "id": "QTD5Zbh_PBBj",
        "outputId": "0b8ed105-f1b7-4251-a16a-ceef8b4554f3"
      },
      "execution_count": null,
      "outputs": [
        {
          "output_type": "display_data",
          "data": {
            "text/plain": [
              "<PIL.Image.Image image mode=L size=256x256 at 0x7F016DB0AA90>"
            ],
            "image/png": "[encoded data removed]"
          },
          "metadata": {}
        }
      ]
    },
    {
      "cell_type": "code",
      "source": [
        "Block_size = 8\n",
        "Book3=[]\n",
        "Book3.append(encoded)\n",
        "for current in range(1,len(ved)):\n",
        "  current_frame=np.array(ved[current], dtype='int')\n",
        "\n",
        "  motion_vector=estimation(ref_jepg, current_frame, Block_size)\n",
        "  a, b = compensation(ref_jepg, current_frame, Block_size, motion_vector)\n",
        "  get_b_encoded, get_b_helper =jpegEnc(q, b , 'Huffman')\n",
        "  print(current)\n",
        "  flat_Motion_vector = [item for sublist in motion_vector for item in sublist]\n",
        "  flat_Motion_vector_encoded,helper_flat_Motion_vector=use_huffenc(flat_Motion_vector)\n",
        "  Book3.append([flat_Motion_vector_encoded,helper_flat_Motion_vector,get_b_encoded, get_b_helper])"
      ],
      "metadata": {
        "id": "t82qKDHcPF_j"
      },
      "execution_count": null,
      "outputs": []
    },
    {
      "cell_type": "code",
      "source": [
        "vect3=[]\n",
        "vect3.append(ref_jepg)\n",
        "for current in range(1,len(ved)): \n",
        "  decoded=huffdec(Book3[current][0],Book3[current][1])\n",
        "\n",
        "  RX_motion_vector=decoded\n",
        "  RX_motion_vector=transform(decoded)\n",
        "\n",
        "  RX_Img_b=(jpegDec(q, Book3[current][2],Book3[current][3], 'Huffman'))\n",
        "\n",
        "  c, d = de_compensation(ref_jepg, asarray(RX_Img_b), Block_size, RX_motion_vector)\n",
        "\n",
        "  cv2_imshow(d)\n",
        "  vect3.append(d)"
      ],
      "metadata": {
        "id": "MUMmoBW1POEx"
      },
      "execution_count": null,
      "outputs": []
    },
    {
      "cell_type": "code",
      "source": [
        "images3 = vect3\n",
        "filename3 = 'out_xyl_lowq_huffman_8.mp4'\n",
        "#converting the vector of images to a video \n",
        "make_video(filename3, images3)"
      ],
      "metadata": {
        "id": "aQxp7K_ePfYv"
      },
      "execution_count": null,
      "outputs": []
    },
    {
      "cell_type": "code",
      "source": [
        "cm3 = comperssion_ratio(Book3, 256)\n",
        "print('Comperission ratio of the LOW quan table _ 8 : ', cm3)"
      ],
      "metadata": {
        "colab": {
          "base_uri": "https://localhost:8080/"
        },
        "id": "oSgVogiXPoKo",
        "outputId": "4238152d-b0ed-4404-8608-ac37bb08a0fa"
      },
      "execution_count": null,
      "outputs": [
        {
          "output_type": "stream",
          "name": "stdout",
          "text": [
            "Comperission ratio of the LOW quan table _ 8 :  2.3504687147219165\n"
          ]
        }
      ]
    },
    {
      "cell_type": "markdown",
      "source": [
        "### Test 4 ( high - Huffman - 8)"
      ],
      "metadata": {
        "id": "RwOo0JJBRet8"
      }
    },
    {
      "cell_type": "code",
      "source": [
        "#choose low (1) or high (2) compression or choose q = 0 for no compression\n",
        "q = 2\n",
        "\n",
        "#choose Entropy coding function from the following options: 1- Huffman 2- Arithmetic\n",
        "coding_function = 'Huffman'"
      ],
      "metadata": {
        "id": "DI4bS7ZdSfYx"
      },
      "execution_count": null,
      "outputs": []
    },
    {
      "cell_type": "code",
      "source": [
        "ref = ved[0]\n",
        "encoded, helper = jpegEnc(q, ref, coding_function)\n",
        "Get_dec = jpegDec(q, encoded, helper, coding_function)\n",
        "ref_jepg = np.asarray(Get_dec)"
      ],
      "metadata": {
        "id": "RNDN60sZSbCz"
      },
      "execution_count": null,
      "outputs": []
    },
    {
      "cell_type": "code",
      "source": [
        "#reference image before lossing compression\n",
        "cv2_imshow(ref)"
      ],
      "metadata": {
        "colab": {
          "base_uri": "https://localhost:8080/",
          "height": 273
        },
        "id": "vSFc6IhhSS7n",
        "outputId": "f6fb4073-d6e3-4c81-f2a8-4e3eeefd30a9"
      },
      "execution_count": null,
      "outputs": [
        {
          "output_type": "display_data",
          "data": {
            "text/plain": [
              "<PIL.Image.Image image mode=L size=256x256 at 0x7F0179CF8310>"
            ],
            "image/png": "[encoded data removed]"
          },
          "metadata": {}
        }
      ]
    },
    {
      "cell_type": "code",
      "source": [
        "#reference image after lossing compression\n",
        "cv2_imshow(ref_jepg)"
      ],
      "metadata": {
        "colab": {
          "base_uri": "https://localhost:8080/",
          "height": 273
        },
        "id": "akeAyWaASOhc",
        "outputId": "cb159776-56d3-41c5-e116-7b7f2e865e64"
      },
      "execution_count": null,
      "outputs": [
        {
          "output_type": "display_data",
          "data": {
            "text/plain": [
              "<PIL.Image.Image image mode=L size=256x256 at 0x7F01778F0250>"
            ],
            "image/png": "[encoded data removed]"
          },
          "metadata": {}
        }
      ]
    },
    {
      "cell_type": "code",
      "source": [
        "Block_size = 8\n",
        "Book4=[]\n",
        "Book4.append(encoded)\n",
        "for current in range(1,len(ved)):\n",
        "  current_frame=np.array(ved[current], dtype='int')\n",
        "\n",
        "  motion_vector=estimation(ref_jepg, current_frame, Block_size)\n",
        "  a, b = compensation(ref_jepg, current_frame, Block_size, motion_vector)\n",
        "  get_b_encoded, get_b_helper =jpegEnc(q, b , 'Huffman')\n",
        "  print(current)\n",
        "  flat_Motion_vector = [item for sublist in motion_vector for item in sublist]\n",
        "  flat_Motion_vector_encoded,helper_flat_Motion_vector=use_huffenc(flat_Motion_vector)\n",
        "  Book4.append([flat_Motion_vector_encoded,helper_flat_Motion_vector,get_b_encoded, get_b_helper])"
      ],
      "metadata": {
        "id": "Pqps4z29SFMH"
      },
      "execution_count": null,
      "outputs": []
    },
    {
      "cell_type": "code",
      "source": [
        "vect4=[]\n",
        "vect4.append(ref_jepg)\n",
        "for current in range(1,len(ved)): \n",
        "  decoded=huffdec(Book4[current][0],Book4[current][1])\n",
        "\n",
        "  RX_motion_vector=decoded\n",
        "  RX_motion_vector=transform(decoded)\n",
        "\n",
        "  RX_Img_b=(jpegDec(q, Book4[current][2],Book4[current][3], 'Huffman'))\n",
        "\n",
        "  c, d = de_compensation(ref_jepg, asarray(RX_Img_b), Block_size, RX_motion_vector)\n",
        "\n",
        "  cv2_imshow(d)\n",
        "  vect4.append(d)"
      ],
      "metadata": {
        "id": "t0NEed6FR4xh"
      },
      "execution_count": null,
      "outputs": []
    },
    {
      "cell_type": "code",
      "source": [
        "images4 = vect4\n",
        "filename4 = 'out_xyl_highq_huffman_8.mp4'\n",
        "#converting the vector of images to a video \n",
        "make_video(filename4, images4)"
      ],
      "metadata": {
        "id": "dPUSEBbgRt4z"
      },
      "execution_count": null,
      "outputs": []
    },
    {
      "cell_type": "code",
      "source": [
        "cm4 = comperssion_ratio(Book4, 256)\n",
        "print('Comperission ratio of the HIGH quan table _ 8 : ', cm4)"
      ],
      "metadata": {
        "colab": {
          "base_uri": "https://localhost:8080/"
        },
        "id": "zoBzM5ImRiJ1",
        "outputId": "27b8d10c-cc52-438f-a881-24df8ccf6e7d"
      },
      "execution_count": null,
      "outputs": [
        {
          "output_type": "stream",
          "name": "stdout",
          "text": [
            "Comperission ratio of the HIGH quan table _ 8 :  6.81095884251874\n"
          ]
        }
      ]
    },
    {
      "cell_type": "markdown",
      "metadata": {
        "id": "FdMlWu2dxNZD"
      },
      "source": [
        ">## Using Arithmetic"
      ]
    },
    {
      "cell_type": "code",
      "execution_count": null,
      "metadata": {
        "id": "o_ri86CkxNZD"
      },
      "outputs": [],
      "source": [
        "#choose low (1) or high (2) compression or choose q = 0 for no compression\n",
        "q = 2\n",
        "\n",
        "#choose Entropy coding function from the following options: 1- Huffman 2- Arithmetic\n",
        "coding_function = 'Arithmetic'"
      ]
    },
    {
      "cell_type": "markdown",
      "metadata": {
        "id": "OjWuGJwfxNZE"
      },
      "source": [
        ">>### First Frame"
      ]
    },
    {
      "cell_type": "code",
      "execution_count": null,
      "metadata": {
        "id": "tex-jkrfxNZE"
      },
      "outputs": [],
      "source": [
        "ref = ved[0]\n",
        "encoded, helper = jpegEnc(q, ref, coding_function)"
      ]
    },
    {
      "cell_type": "code",
      "execution_count": null,
      "metadata": {
        "id": "rxRb_98x_C3y"
      },
      "outputs": [],
      "source": [
        "Get_dec = jpegDec(q, encoded, helper, coding_function)\n",
        "ref_jepg=np.asarray(Get_dec)"
      ]
    },
    {
      "cell_type": "code",
      "execution_count": null,
      "metadata": {
        "id": "jJINRkvIxNZE"
      },
      "outputs": [],
      "source": [
        "#reference image before lossing compression\n",
        "cv2_imshow(ref)"
      ]
    },
    {
      "cell_type": "code",
      "execution_count": null,
      "metadata": {
        "id": "SDHU4MjhxNZF"
      },
      "outputs": [],
      "source": [
        "#reference image after lossing compression\n",
        "cv2_imshow(ref_jepg)"
      ]
    },
    {
      "cell_type": "code",
      "source": [
        "512*512*8/len(encoded)  # huffman low q table"
      ],
      "metadata": {
        "colab": {
          "base_uri": "https://localhost:8080/"
        },
        "id": "AkKwHx5toYPj",
        "outputId": "e594cb62-eb6f-4acf-b4db-8a3af95f7702"
      },
      "execution_count": null,
      "outputs": [
        {
          "output_type": "execute_result",
          "data": {
            "text/plain": [
              "3.3392172754153018"
            ]
          },
          "metadata": {},
          "execution_count": 89
        }
      ]
    },
    {
      "cell_type": "code",
      "source": [
        "512*512*8/len(encoded)  # arthmatic low q table"
      ],
      "metadata": {
        "colab": {
          "base_uri": "https://localhost:8080/"
        },
        "id": "K6vR3rl8o4H9",
        "outputId": "8ccdaad2-d5f0-4078-8dbc-d7f6191dae3c"
      },
      "execution_count": null,
      "outputs": [
        {
          "output_type": "execute_result",
          "data": {
            "text/plain": [
              "2142.1368743615935"
            ]
          },
          "metadata": {},
          "execution_count": 92
        }
      ]
    },
    {
      "cell_type": "markdown",
      "metadata": {
        "id": "Chw8aYRgH8mJ"
      },
      "source": [
        ">>### All Frames"
      ]
    },
    {
      "cell_type": "code",
      "source": [
        "Block_size = 1\n",
        "Book2 = []\n",
        "for current in range(20,50):\n",
        "  current_frame=np.array(ved[current], dtype='int')\n",
        "\n",
        "  motion_vector=estimation(ref_jepg, current_frame, Block_size)\n",
        "  a, b = compensation(ref_jepg, current_frame, Block_size, motion_vector)\n",
        "  get_b_encoded, get_b_helper =jpegEnc(q, b , 'Arithmetic')\n",
        "  flat_Motion_vector = [item for sublist in motion_vector for item in sublist]\n",
        "  flat_Motion_vector_encoded,helper_flat_Motion_vector=use_arithenc(flat_Motion_vector, 4)\n",
        "  Book2.append([flat_Motion_vector_encoded,helper_flat_Motion_vector,get_b_encoded, get_b_helper])"
      ],
      "metadata": {
        "id": "tJDIKCsgWPdC"
      },
      "execution_count": null,
      "outputs": []
    },
    {
      "cell_type": "code",
      "execution_count": null,
      "metadata": {
        "id": "fHFaMuPH1rv-"
      },
      "outputs": [],
      "source": [
        "vect2 = []\n",
        "for current in range(0,30): \n",
        "\n",
        "  decoded=use_arithdec(Book2[current][0],Book2[current][1])\n",
        "\n",
        "  RX_motion_vector=transform(decoded)\n",
        "\n",
        "  RX_Img_b=(jpegDec(q, Book2[current][2],Book2[current][3], 'Arithmetic'))\n",
        "\n",
        "  c, d = de_compensation(ref_jepg, asarray(RX_Img_b), Block_size, RX_motion_vector)\n",
        "\n",
        "  cv2_imshow(d)\n",
        "  vect2.append(d)"
      ]
    },
    {
      "cell_type": "code",
      "execution_count": null,
      "metadata": {
        "id": "xYmJ2i8X9g8o"
      },
      "outputs": [],
      "source": [
        "images2 = vect2\n",
        "filename2 = 'out_low_Arithmetic6.mp4'\n",
        "#converting the vector of images to a video \n",
        "make_video(filename2, images2)"
      ]
    },
    {
      "cell_type": "markdown",
      "source": [
        "# Results:\n"
      ],
      "metadata": {
        "id": "j4kebQJThUoX"
      }
    },
    {
      "cell_type": "markdown",
      "source": [
        "https://drive.google.com/drive/folders/1EiQh2tAAzcGxh8MSjr7T8-ZH7mnJyVks\n"
      ],
      "metadata": {
        "id": "lPUnljDnhaAw"
      }
    }
  ],
  "metadata": {
    "colab": {
      "collapsed_sections": [
        "dj3M07daX3u3",
        "xWRWYYQRX1vO",
        "Jvv5GXBzXsEK",
        "akxgF4yo4JK2",
        "hdMWhyKC6Rx_",
        "PYGUtqnCEqMN",
        "XFUWAPxz_WsJ",
        "JjR6qNk9o3py",
        "fauVoW007nUY"
      ],
      "provenance": [],
      "toc_visible": true
    },
    "kernelspec": {
      "display_name": "Python 3",
      "name": "python3"
    },
    "language_info": {
      "name": "python"
    }
  },
  "nbformat": 4,
  "nbformat_minor": 0
}
